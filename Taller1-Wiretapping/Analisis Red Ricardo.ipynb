{
 "cells": [
  {
   "cell_type": "code",
   "execution_count": 107,
   "metadata": {},
   "outputs": [
    {
     "ename": "ImportError",
     "evalue": "cannot import name 'readNetworkData' from 'analisis' (/Users/r/Sites/facu/redes2020/Taller1-Wiretapping/analisis.py)",
     "output_type": "error",
     "traceback": [
      "\u001b[0;31m---------------------------------------------------------------------------\u001b[0m",
      "\u001b[0;31mImportError\u001b[0m                               Traceback (most recent call last)",
      "\u001b[0;32m<ipython-input-107-027c260340f3>\u001b[0m in \u001b[0;36m<module>\u001b[0;34m\u001b[0m\n\u001b[1;32m      4\u001b[0m \u001b[0mBASE_DIR\u001b[0m \u001b[0;34m=\u001b[0m \u001b[0mos\u001b[0m\u001b[0;34m.\u001b[0m\u001b[0mpath\u001b[0m\u001b[0;34m.\u001b[0m\u001b[0mdirname\u001b[0m\u001b[0;34m(\u001b[0m\u001b[0mos\u001b[0m\u001b[0;34m.\u001b[0m\u001b[0mpath\u001b[0m\u001b[0;34m.\u001b[0m\u001b[0mdirname\u001b[0m\u001b[0;34m(\u001b[0m\u001b[0mos\u001b[0m\u001b[0;34m.\u001b[0m\u001b[0mpath\u001b[0m\u001b[0;34m.\u001b[0m\u001b[0mabspath\u001b[0m\u001b[0;34m(\u001b[0m\u001b[0;34m'analisis.py'\u001b[0m\u001b[0;34m)\u001b[0m\u001b[0;34m)\u001b[0m\u001b[0;34m)\u001b[0m\u001b[0;34m\u001b[0m\u001b[0;34m\u001b[0m\u001b[0m\n\u001b[1;32m      5\u001b[0m \u001b[0msys\u001b[0m\u001b[0;34m.\u001b[0m\u001b[0mpath\u001b[0m\u001b[0;34m.\u001b[0m\u001b[0mappend\u001b[0m\u001b[0;34m(\u001b[0m\u001b[0mBASE_DIR\u001b[0m\u001b[0;34m)\u001b[0m\u001b[0;34m\u001b[0m\u001b[0;34m\u001b[0m\u001b[0m\n\u001b[0;32m----> 6\u001b[0;31m \u001b[0;32mfrom\u001b[0m \u001b[0manalisis\u001b[0m \u001b[0;32mimport\u001b[0m \u001b[0mreadNetworkData\u001b[0m\u001b[0;34m,\u001b[0m\u001b[0mdrawPiePercentage\u001b[0m\u001b[0;34m,\u001b[0m\u001b[0mdrawEntropy\u001b[0m\u001b[0;34m\u001b[0m\u001b[0;34m\u001b[0m\u001b[0m\n\u001b[0m",
      "\u001b[0;31mImportError\u001b[0m: cannot import name 'readNetworkData' from 'analisis' (/Users/r/Sites/facu/redes2020/Taller1-Wiretapping/analisis.py)"
     ]
    }
   ],
   "source": [
    "import sys\n",
    "import os\n",
    "\n",
    "BASE_DIR = os.path.dirname(os.path.dirname(os.path.abspath('analisis.py')))\n",
    "sys.path.append(BASE_DIR)\n",
    "from analisis import readNetworkData,drawPiePercentage,drawEntropy"
   ]
  },
  {
   "cell_type": "code",
   "execution_count": 215,
   "metadata": {},
   "outputs": [],
   "source": [
    "def readNetworkData(path):\n",
    "    entropy=[]\n",
    "    frameData=[]\n",
    "    with open(path) as file:\n",
    "        print(\"read file {0}\".format(path))\n",
    "        frameLines= []\n",
    "        entropiaLine = ''\n",
    "        for i, line in enumerate(file):\n",
    "            if(line.find('Entropia')!=-1):\n",
    "                en = parseEntropia(line)\n",
    "            elif(line.find('(')!=-1):\n",
    "                frameLines.append(parseType(line))\n",
    "            elif(line.find('frames')!=-1):\n",
    "                frameLines = parseFrame(line,frameLines)\n",
    "                frameData = frameData + frameLines\n",
    "                frameLines=[]\n",
    "                entropiaLine = ''\n",
    "                entropy.append(en)\n",
    "    dfEntropy = pd.DataFrame.from_dict(entropy)\n",
    "    dfEntropy.columns=['value']\n",
    "    return pd.DataFrame.from_dict(frameData),dfEntropy\n",
    "            \n",
    "def parseEntropia(line):\n",
    "    return float(line.split(':')[2])\n",
    "\n",
    "#example of line\n",
    "# ('UNICAST', 2048) : 0.99942 --- Info:  0.00084\n",
    "def parseType(line):\n",
    "    itemType,itemSize = line[line.find('(')+1:line.find(')')].split(', ')\n",
    "    subs1 = line[line.find(')')+4:]\n",
    "    value = float(subs1.split('---')[0])\n",
    "    info= float(subs1.split('---')[1].split(':')[1])\n",
    "    return {\n",
    "        'type':itemType,'size':itemSize,'value':value,'info':info       \n",
    "    }\n",
    "\n",
    "def parseFrame(line,frameLines):\n",
    "    frameNumber = int(line.split(' ')[0])\n",
    "    for frame in frameLines:\n",
    "        frame.update({'frame':frameNumber})\n",
    "    \n",
    "    return frameLines\n",
    "def drawPiePercentage(df):\n",
    "    fig = go.Figure(data=[go.Pie(labels=df['type'], values=df['value'])])\n",
    "    fig.write_html('pie.html', auto_open=True)\n",
    "\n",
    "def drawProtocols(df):\n",
    "    fig = go.Figure(data=[go.Bar(x=df['protocol'], y=df['value'])])\n",
    "    fig.write_html('protocols.html', auto_open=True)\n",
    "    \n",
    "    \n",
    "def drawEntropy(df):\n",
    "    fig = go.Figure(data=[go.Scatter(y=df['value'])])\n",
    "    tickXfont = dict(\n",
    "        font=dict(\n",
    "            family=\"Courier New\",\n",
    "            size=14,\n",
    "            color=\"#2a3f5f\"),\n",
    "        text='frame'\n",
    "    )\n",
    "    xaxis=dict(\n",
    "        nticks=40,\n",
    "        tickfont=dict(size=10,family='Courier New'),\n",
    "        ticks='outside',\n",
    "        title=tickXfont,\n",
    "        exponentformat=\"power\",\n",
    "        showticklabels=True,\n",
    "        type=\"linear\",\n",
    "        visible=True,\n",
    "        rangemode=\"normal\",\n",
    "        color=\"#444\",\n",
    "        showexponent=\"all\",\n",
    "        separatethousands=False,\n",
    "        ticklen=5,\n",
    "        tickwidth=1,\n",
    "        tickcolor=\"#444\",\n",
    "        linewidth=1,\n",
    "        gridcolor=\"#EBF0F8\",\n",
    "        linecolor='#C5CED9',\n",
    "        gridwidth=1,\n",
    "        zerolinecolor=\"#EBF0F8\",\n",
    "        zerolinewidth=2,\n",
    "        zeroline=True,\n",
    "        automargin=True,\n",
    "        layer=\"above traces\",\n",
    "        fixedrange=False,\n",
    "        constrain=\"range\",\n",
    "        constraintoward=\"center\"\n",
    "    )\n",
    "    fig.update_layout(xaxis=xaxis,title='Evolucion entropia', yaxis_title=\"valor entropia\",xaxis_title='frame',plot_bgcolor='#FFF' )\n",
    "    fig.write_html('entropy.html', auto_open=True)\n",
    "    "
   ]
  },
  {
   "cell_type": "code",
   "execution_count": 194,
   "metadata": {},
   "outputs": [
    {
     "name": "stdout",
     "output_type": "stream",
     "text": [
      "/Users/r/Sites/facu/redes2020/Taller1-Wiretapping\n"
     ]
    }
   ],
   "source": [
    "!pwd"
   ]
  },
  {
   "cell_type": "code",
   "execution_count": 195,
   "metadata": {},
   "outputs": [
    {
     "name": "stdout",
     "output_type": "stream",
     "text": [
      "read file ./2020-05-10_11:29:56.out\n"
     ]
    }
   ],
   "source": [
    "frames,entropy = readNetworkData('./2020-05-10_11:29:56.out')"
   ]
  },
  {
   "cell_type": "code",
   "execution_count": 196,
   "metadata": {},
   "outputs": [
    {
     "data": {
      "text/html": [
       "<div>\n",
       "<style scoped>\n",
       "    .dataframe tbody tr th:only-of-type {\n",
       "        vertical-align: middle;\n",
       "    }\n",
       "\n",
       "    .dataframe tbody tr th {\n",
       "        vertical-align: top;\n",
       "    }\n",
       "\n",
       "    .dataframe thead th {\n",
       "        text-align: right;\n",
       "    }\n",
       "</style>\n",
       "<table border=\"1\" class=\"dataframe\">\n",
       "  <thead>\n",
       "    <tr style=\"text-align: right;\">\n",
       "      <th></th>\n",
       "      <th>value</th>\n",
       "    </tr>\n",
       "  </thead>\n",
       "  <tbody>\n",
       "    <tr>\n",
       "      <th>0</th>\n",
       "      <td>0.0</td>\n",
       "    </tr>\n",
       "    <tr>\n",
       "      <th>1</th>\n",
       "      <td>0.0</td>\n",
       "    </tr>\n",
       "    <tr>\n",
       "      <th>2</th>\n",
       "      <td>0.0</td>\n",
       "    </tr>\n",
       "  </tbody>\n",
       "</table>\n",
       "</div>"
      ],
      "text/plain": [
       "   value\n",
       "0    0.0\n",
       "1    0.0\n",
       "2    0.0"
      ]
     },
     "execution_count": 196,
     "metadata": {},
     "output_type": "execute_result"
    }
   ],
   "source": [
    "entropy.head(3)"
   ]
  },
  {
   "cell_type": "code",
   "execution_count": 197,
   "metadata": {},
   "outputs": [],
   "source": [
    "last =  frames[frames['frame']==frames['frame'].max()].copy()"
   ]
  },
  {
   "cell_type": "code",
   "execution_count": 198,
   "metadata": {},
   "outputs": [
    {
     "data": {
      "text/html": [
       "<div>\n",
       "<style scoped>\n",
       "    .dataframe tbody tr th:only-of-type {\n",
       "        vertical-align: middle;\n",
       "    }\n",
       "\n",
       "    .dataframe tbody tr th {\n",
       "        vertical-align: top;\n",
       "    }\n",
       "\n",
       "    .dataframe thead th {\n",
       "        text-align: right;\n",
       "    }\n",
       "</style>\n",
       "<table border=\"1\" class=\"dataframe\">\n",
       "  <thead>\n",
       "    <tr style=\"text-align: right;\">\n",
       "      <th></th>\n",
       "      <th>frame</th>\n",
       "      <th>info</th>\n",
       "      <th>size</th>\n",
       "      <th>type</th>\n",
       "      <th>value</th>\n",
       "    </tr>\n",
       "  </thead>\n",
       "  <tbody>\n",
       "    <tr>\n",
       "      <th>133110</th>\n",
       "      <td>22298</td>\n",
       "      <td>0.00356</td>\n",
       "      <td>2048</td>\n",
       "      <td>'UNICAST'</td>\n",
       "      <td>0.99753</td>\n",
       "    </tr>\n",
       "    <tr>\n",
       "      <th>133111</th>\n",
       "      <td>22298</td>\n",
       "      <td>9.68974</td>\n",
       "      <td>34525</td>\n",
       "      <td>'UNICAST'</td>\n",
       "      <td>0.00121</td>\n",
       "    </tr>\n",
       "    <tr>\n",
       "      <th>133112</th>\n",
       "      <td>22298</td>\n",
       "      <td>10.98520</td>\n",
       "      <td>2054</td>\n",
       "      <td>'BROADCAST'</td>\n",
       "      <td>0.00049</td>\n",
       "    </tr>\n",
       "    <tr>\n",
       "      <th>133113</th>\n",
       "      <td>22298</td>\n",
       "      <td>11.63727</td>\n",
       "      <td>35130</td>\n",
       "      <td>'UNICAST'</td>\n",
       "      <td>0.00031</td>\n",
       "    </tr>\n",
       "    <tr>\n",
       "      <th>133114</th>\n",
       "      <td>22298</td>\n",
       "      <td>11.63727</td>\n",
       "      <td>35020</td>\n",
       "      <td>'UNICAST'</td>\n",
       "      <td>0.00031</td>\n",
       "    </tr>\n",
       "    <tr>\n",
       "      <th>133115</th>\n",
       "      <td>22298</td>\n",
       "      <td>12.85966</td>\n",
       "      <td>2048</td>\n",
       "      <td>'BROADCAST'</td>\n",
       "      <td>0.00013</td>\n",
       "    </tr>\n",
       "  </tbody>\n",
       "</table>\n",
       "</div>"
      ],
      "text/plain": [
       "        frame      info   size         type    value\n",
       "133110  22298   0.00356   2048    'UNICAST'  0.99753\n",
       "133111  22298   9.68974  34525    'UNICAST'  0.00121\n",
       "133112  22298  10.98520   2054  'BROADCAST'  0.00049\n",
       "133113  22298  11.63727  35130    'UNICAST'  0.00031\n",
       "133114  22298  11.63727  35020    'UNICAST'  0.00031\n",
       "133115  22298  12.85966   2048  'BROADCAST'  0.00013"
      ]
     },
     "execution_count": 198,
     "metadata": {},
     "output_type": "execute_result"
    }
   ],
   "source": [
    "last"
   ]
  },
  {
   "cell_type": "code",
   "execution_count": 199,
   "metadata": {},
   "outputs": [
    {
     "data": {
      "text/html": [
       "<div>\n",
       "<style scoped>\n",
       "    .dataframe tbody tr th:only-of-type {\n",
       "        vertical-align: middle;\n",
       "    }\n",
       "\n",
       "    .dataframe tbody tr th {\n",
       "        vertical-align: top;\n",
       "    }\n",
       "\n",
       "    .dataframe thead th {\n",
       "        text-align: right;\n",
       "    }\n",
       "</style>\n",
       "<table border=\"1\" class=\"dataframe\">\n",
       "  <thead>\n",
       "    <tr style=\"text-align: right;\">\n",
       "      <th></th>\n",
       "      <th>frame</th>\n",
       "      <th>type</th>\n",
       "      <th>value</th>\n",
       "    </tr>\n",
       "  </thead>\n",
       "  <tbody>\n",
       "    <tr>\n",
       "      <th>0</th>\n",
       "      <td>22298</td>\n",
       "      <td>'BROADCAST'</td>\n",
       "      <td>0.00062</td>\n",
       "    </tr>\n",
       "    <tr>\n",
       "      <th>1</th>\n",
       "      <td>22298</td>\n",
       "      <td>'UNICAST'</td>\n",
       "      <td>0.99936</td>\n",
       "    </tr>\n",
       "  </tbody>\n",
       "</table>\n",
       "</div>"
      ],
      "text/plain": [
       "   frame         type    value\n",
       "0  22298  'BROADCAST'  0.00062\n",
       "1  22298    'UNICAST'  0.99936"
      ]
     },
     "execution_count": 199,
     "metadata": {},
     "output_type": "execute_result"
    }
   ],
   "source": [
    "pie = last.groupby(['frame','type'])['value'].sum().reset_index()\n",
    "pie"
   ]
  },
  {
   "cell_type": "code",
   "execution_count": 202,
   "metadata": {},
   "outputs": [],
   "source": [
    "drawPiePercentage(pie)"
   ]
  },
  {
   "cell_type": "code",
   "execution_count": 149,
   "metadata": {},
   "outputs": [],
   "source": [
    "drawEntropy(entropy)"
   ]
  },
  {
   "cell_type": "code",
   "execution_count": 209,
   "metadata": {},
   "outputs": [],
   "source": [
    "def addProtocolName(c):\n",
    "    if c['type'].find('UNICAST') and int(c['size']) == 2048:\n",
    "        return 'IPV4'\n",
    "    elif c['type'].find('UNICAST') and int(c['size']) == 2054:\n",
    "        return 'ARP'\n",
    "    elif c['type'].find('UNICAST') and int(c['size']) == 34525:\n",
    "        return 'IPV6'\n",
    "    elif c['type'].find('UNICAST') and int(c['size']) == 35130:\n",
    "        return 'IEEE 1905'\n",
    "    elif c['type'].find('UNICAST') and int(c['size']) == 35020:\n",
    "        return 'LLDP'\n",
    "fra = last.copy()\n",
    "fra['protocol']= last.apply(addProtocolName,axis=1)"
   ]
  },
  {
   "cell_type": "code",
   "execution_count": 212,
   "metadata": {},
   "outputs": [
    {
     "data": {
      "text/html": [
       "<div>\n",
       "<style scoped>\n",
       "    .dataframe tbody tr th:only-of-type {\n",
       "        vertical-align: middle;\n",
       "    }\n",
       "\n",
       "    .dataframe tbody tr th {\n",
       "        vertical-align: top;\n",
       "    }\n",
       "\n",
       "    .dataframe thead th {\n",
       "        text-align: right;\n",
       "    }\n",
       "</style>\n",
       "<table border=\"1\" class=\"dataframe\">\n",
       "  <thead>\n",
       "    <tr style=\"text-align: right;\">\n",
       "      <th></th>\n",
       "      <th>frame</th>\n",
       "      <th>info</th>\n",
       "      <th>size</th>\n",
       "      <th>type</th>\n",
       "      <th>value</th>\n",
       "      <th>protocol</th>\n",
       "    </tr>\n",
       "  </thead>\n",
       "  <tbody>\n",
       "    <tr>\n",
       "      <th>133110</th>\n",
       "      <td>22298</td>\n",
       "      <td>0.00356</td>\n",
       "      <td>2048</td>\n",
       "      <td>'UNICAST'</td>\n",
       "      <td>0.99753</td>\n",
       "      <td>IPV4</td>\n",
       "    </tr>\n",
       "    <tr>\n",
       "      <th>133111</th>\n",
       "      <td>22298</td>\n",
       "      <td>9.68974</td>\n",
       "      <td>34525</td>\n",
       "      <td>'UNICAST'</td>\n",
       "      <td>0.00121</td>\n",
       "      <td>IPV6</td>\n",
       "    </tr>\n",
       "    <tr>\n",
       "      <th>133112</th>\n",
       "      <td>22298</td>\n",
       "      <td>10.98520</td>\n",
       "      <td>2054</td>\n",
       "      <td>'BROADCAST'</td>\n",
       "      <td>0.00049</td>\n",
       "      <td>ARP</td>\n",
       "    </tr>\n",
       "    <tr>\n",
       "      <th>133113</th>\n",
       "      <td>22298</td>\n",
       "      <td>11.63727</td>\n",
       "      <td>35130</td>\n",
       "      <td>'UNICAST'</td>\n",
       "      <td>0.00031</td>\n",
       "      <td>IEEE 1905</td>\n",
       "    </tr>\n",
       "    <tr>\n",
       "      <th>133114</th>\n",
       "      <td>22298</td>\n",
       "      <td>11.63727</td>\n",
       "      <td>35020</td>\n",
       "      <td>'UNICAST'</td>\n",
       "      <td>0.00031</td>\n",
       "      <td>LLDP</td>\n",
       "    </tr>\n",
       "    <tr>\n",
       "      <th>133115</th>\n",
       "      <td>22298</td>\n",
       "      <td>12.85966</td>\n",
       "      <td>2048</td>\n",
       "      <td>'BROADCAST'</td>\n",
       "      <td>0.00013</td>\n",
       "      <td>IPV4</td>\n",
       "    </tr>\n",
       "  </tbody>\n",
       "</table>\n",
       "</div>"
      ],
      "text/plain": [
       "        frame      info   size         type    value   protocol\n",
       "133110  22298   0.00356   2048    'UNICAST'  0.99753       IPV4\n",
       "133111  22298   9.68974  34525    'UNICAST'  0.00121       IPV6\n",
       "133112  22298  10.98520   2054  'BROADCAST'  0.00049        ARP\n",
       "133113  22298  11.63727  35130    'UNICAST'  0.00031  IEEE 1905\n",
       "133114  22298  11.63727  35020    'UNICAST'  0.00031       LLDP\n",
       "133115  22298  12.85966   2048  'BROADCAST'  0.00013       IPV4"
      ]
     },
     "execution_count": 212,
     "metadata": {},
     "output_type": "execute_result"
    }
   ],
   "source": [
    "fra.head(10)"
   ]
  },
  {
   "cell_type": "code",
   "execution_count": 216,
   "metadata": {},
   "outputs": [],
   "source": [
    "drawProtocols(fra)"
   ]
  },
  {
   "cell_type": "code",
   "execution_count": 121,
   "metadata": {},
   "outputs": [],
   "source": [
    "dgroup2 = frames.groupby(['type','size']).count()"
   ]
  },
  {
   "cell_type": "code",
   "execution_count": 123,
   "metadata": {},
   "outputs": [
    {
     "data": {
      "text/html": [
       "<div>\n",
       "<style scoped>\n",
       "    .dataframe tbody tr th:only-of-type {\n",
       "        vertical-align: middle;\n",
       "    }\n",
       "\n",
       "    .dataframe tbody tr th {\n",
       "        vertical-align: top;\n",
       "    }\n",
       "\n",
       "    .dataframe thead th {\n",
       "        text-align: right;\n",
       "    }\n",
       "</style>\n",
       "<table border=\"1\" class=\"dataframe\">\n",
       "  <thead>\n",
       "    <tr style=\"text-align: right;\">\n",
       "      <th></th>\n",
       "      <th></th>\n",
       "      <th>frame</th>\n",
       "      <th>info</th>\n",
       "      <th>value</th>\n",
       "    </tr>\n",
       "    <tr>\n",
       "      <th>type</th>\n",
       "      <th>size</th>\n",
       "      <th></th>\n",
       "      <th></th>\n",
       "      <th></th>\n",
       "    </tr>\n",
       "  </thead>\n",
       "  <tbody>\n",
       "    <tr>\n",
       "      <th rowspan=\"2\" valign=\"top\">'BROADCAST'</th>\n",
       "      <th>2048</th>\n",
       "      <td>22268</td>\n",
       "      <td>22268</td>\n",
       "      <td>22268</td>\n",
       "    </tr>\n",
       "    <tr>\n",
       "      <th>2054</th>\n",
       "      <td>22141</td>\n",
       "      <td>22141</td>\n",
       "      <td>22141</td>\n",
       "    </tr>\n",
       "    <tr>\n",
       "      <th rowspan=\"4\" valign=\"top\">'UNICAST'</th>\n",
       "      <th>2048</th>\n",
       "      <td>22298</td>\n",
       "      <td>22298</td>\n",
       "      <td>22298</td>\n",
       "    </tr>\n",
       "    <tr>\n",
       "      <th>34525</th>\n",
       "      <td>22124</td>\n",
       "      <td>22124</td>\n",
       "      <td>22124</td>\n",
       "    </tr>\n",
       "    <tr>\n",
       "      <th>35020</th>\n",
       "      <td>22142</td>\n",
       "      <td>22142</td>\n",
       "      <td>22142</td>\n",
       "    </tr>\n",
       "    <tr>\n",
       "      <th>35130</th>\n",
       "      <td>22143</td>\n",
       "      <td>22143</td>\n",
       "      <td>22143</td>\n",
       "    </tr>\n",
       "  </tbody>\n",
       "</table>\n",
       "</div>"
      ],
      "text/plain": [
       "                   frame   info  value\n",
       "type        size                      \n",
       "'BROADCAST' 2048   22268  22268  22268\n",
       "            2054   22141  22141  22141\n",
       "'UNICAST'   2048   22298  22298  22298\n",
       "            34525  22124  22124  22124\n",
       "            35020  22142  22142  22142\n",
       "            35130  22143  22143  22143"
      ]
     },
     "execution_count": 123,
     "metadata": {},
     "output_type": "execute_result"
    }
   ],
   "source": [
    "dgroup2[dgroup2['size']]"
   ]
  },
  {
   "cell_type": "code",
   "execution_count": 77,
   "metadata": {},
   "outputs": [],
   "source": [
    "drawEntropy(entropy)"
   ]
  },
  {
   "cell_type": "code",
   "execution_count": null,
   "metadata": {},
   "outputs": [],
   "source": []
  }
 ],
 "metadata": {
  "kernelspec": {
   "display_name": "Python 3",
   "language": "python",
   "name": "python3"
  },
  "language_info": {
   "codemirror_mode": {
    "name": "ipython",
    "version": 3
   },
   "file_extension": ".py",
   "mimetype": "text/x-python",
   "name": "python",
   "nbconvert_exporter": "python",
   "pygments_lexer": "ipython3",
   "version": "3.7.7"
  }
 },
 "nbformat": 4,
 "nbformat_minor": 2
}
